{
 "cells": [
  {
   "attachments": {},
   "cell_type": "markdown",
   "id": "86d3b755",
   "metadata": {},
   "source": [
    "# LAB 02 - CO544 - Data Visualization"
   ]
  },
  {
   "attachments": {},
   "cell_type": "markdown",
   "id": "a1498794",
   "metadata": {},
   "source": [
    "## 1. Importing Data set"
   ]
  },
  {
   "cell_type": "code",
   "execution_count": 1,
   "id": "441ab08f",
   "metadata": {},
   "outputs": [],
   "source": [
    "import numpy as np\n",
    "import pandas as pd\n",
    "import matplotlib.pyplot as plt\n",
    "import seaborn as sns"
   ]
  },
  {
   "cell_type": "code",
   "execution_count": null,
   "id": "14d11cbb",
   "metadata": {},
   "outputs": [],
   "source": [
    "gapminder_df = pd.read_csv('gapminder.tsv', sep='\\t') #Read the dataset\n",
    "gapminder_df.head() #Display first few rows of the dataset"
   ]
  },
  {
   "cell_type": "code",
   "execution_count": null,
   "id": "adc5aeb0",
   "metadata": {},
   "outputs": [],
   "source": [
    "recent_year = gapminder_df['year'].max() #Get the most recent year\n",
    "recent_year_df = gapminder_df[gapminder_df['year'] == recent_year] #Filter the dataframe based on the most recent year\n",
    "recent_year_df.shape #Shape of the new dataframe\n",
    "recent_year_df['gdpPercap'].describe()"
   ]
  },
  {
   "attachments": {},
   "cell_type": "markdown",
   "id": "c46ecbea",
   "metadata": {},
   "source": [
    "## 2. Histograms"
   ]
  },
  {
   "cell_type": "code",
   "execution_count": 4,
   "id": "b0b2e39b",
   "metadata": {},
   "outputs": [
    {
     "data": {
      "image/png": "[encoded data removed]",
      "text/plain": [
       "<Figure size 1000x600 with 1 Axes>"
      ]
     },
     "metadata": {},
     "output_type": "display_data"
    }
   ],
   "source": [
    "plt.figure(figsize=(10, 6)) #Create a figure\n",
    "plt.hist(recent_year_df['gdpPercap']); #Plot the histogram"
   ]
  },
  {
   "cell_type": "code",
   "execution_count": null,
   "id": "b542f50a",
   "metadata": {},
   "outputs": [],
   "source": [
    "plt.hist(recent_year_df['gdpPercap']) #Plot the histogram\n",
    "plt.title('Distribution of Global Per-Capita GDP in 2007') #Add a title to the plot\n",
    "plt.xlabel('Per-Capita GDP (In dollars)') #Add labels to the axes\n",
    "plt.ylabel('Number of countries') #Add labels to the axes"
   ]
  },
  {
   "cell_type": "code",
   "execution_count": null,
   "id": "bc8174bc",
   "metadata": {},
   "outputs": [],
   "source": [
    "plt.hist(recent_year_df['gdpPercap'], bins=20)\n",
    "plt.title('Distribution of Global Per-Capita GDP in 2007')\n",
    "plt.xlabel('Per-Capita GDP (In dollars)')\n",
    "plt.ylabel('Number of countries')"
   ]
  },
  {
   "cell_type": "code",
   "execution_count": 10,
   "id": "a9a80a02",
   "metadata": {},
   "outputs": [
    {
     "data": {
      "text/plain": [
       "(142, 2)"
      ]
     },
     "execution_count": 10,
     "metadata": {},
     "output_type": "execute_result"
    }
   ],
   "source": [
    "countries_df = gapminder_df[['country', 'continent']] #New dataframe with selected features\n",
    "countries_df = countries_df.drop_duplicates() #Drop duplicate combinations\n",
    "countries_df.shape"
   ]
  }
 ],
 "metadata": {
  "kernelspec": {
   "display_name": "Python 3 (ipykernel)",
   "language": "python",
   "name": "python3"
  },
  "language_info": {
   "codemirror_mode": {
    "name": "ipython",
    "version": 3
   },
   "file_extension": ".py",
   "mimetype": "text/x-python",
   "name": "python",
   "nbconvert_exporter": "python",
   "pygments_lexer": "ipython3",
   "version": "3.11.2"
  }
 },
 "nbformat": 4,
 "nbformat_minor": 5
}
